{
 "cells": [
  {
   "cell_type": "code",
   "execution_count": 1,
   "id": "05d47b42",
   "metadata": {},
   "outputs": [],
   "source": [
    "from langchain.vectorstores import FAISS\n",
    "\n",
    "from langchain.chat_models import ChatOpenAI\n",
    "from langchain.embeddings.openai import OpenAIEmbeddings\n",
    "from langchain.chains import ConversationalRetrievalChain\n",
    "from langchain.prompts import PromptTemplate\n",
    "from langchain.document_loaders import TextLoader\n",
    "from langchain.text_splitter import CharacterTextSplitter\n",
    "import os"
   ]
  },
  {
   "cell_type": "code",
   "execution_count": 2,
   "id": "d12c43cd",
   "metadata": {},
   "outputs": [],
   "source": [
    "os.environ[\"OPENAI_API_TYPE\"] = \"azure\"\n",
    "os.environ[\"OPENAI_API_VERSION\"] = \"2023-07-01-preview\"\n",
    "os.environ[\"OPENAI_API_BASE\"] = \"\"\n",
    "os.environ[\"OPENAI_API_KEY\"] = \"\""
   ]
  },
  {
   "cell_type": "code",
   "execution_count": 3,
   "id": "86ba4c02",
   "metadata": {},
   "outputs": [],
   "source": [
    "embedding_model = OpenAIEmbeddings(chunk_size=10)"
   ]
  },
  {
   "cell_type": "code",
   "execution_count": 4,
   "id": "9a9462e3",
   "metadata": {},
   "outputs": [],
   "source": [
    "recipe_1 = TextLoader('test1.json').load()\n",
    "text_splitter_1 = CharacterTextSplitter(chunk_overlap=100)\n",
    "recipe_1_content = text_splitter_1.split_documents(recipe_1)"
   ]
  },
  {
   "cell_type": "code",
   "execution_count": 5,
   "id": "ff3bb2d5",
   "metadata": {},
   "outputs": [],
   "source": [
    "recipe_2 = TextLoader('test2.json').load()\n",
    "text_splitter_2 = CharacterTextSplitter(chunk_overlap=100)\n",
    "recipe_2_content = text_splitter_2.split_documents(recipe_2)"
   ]
  },
  {
   "cell_type": "code",
   "execution_count": 6,
   "id": "86c6302e",
   "metadata": {},
   "outputs": [],
   "source": [
    "def embed_index(doc_list, embed_fn, index_store):\n",
    "  \"\"\"Function takes in existing vector_store, \n",
    "  new doc_list and embedding function that is \n",
    "  initialized on appropriate model. Local or online. \n",
    "  New embedding is merged with the existing index. If no \n",
    "  index given a new one is created\"\"\"\n",
    "  #check whether the doc_list is documents, or text\n",
    "  try:\n",
    "    faiss_db = FAISS.from_documents(doc_list, \n",
    "                              embed_fn)  \n",
    "  except Exception as e:\n",
    "    faiss_db = FAISS.from_texts(doc_list, \n",
    "                              embed_fn)\n",
    "  \n",
    "  if os.path.exists(index_store):\n",
    "    local_db = FAISS.load_local(index_store,embed_fn)\n",
    "    #merging the new embedding with the existing index store\n",
    "    local_db.merge_from(faiss_db)\n",
    "    print(\"Merge completed\")\n",
    "    local_db.save_local(index_store)\n",
    "    print(\"Updated index saved\")\n",
    "  else:\n",
    "    faiss_db.save_local(folder_path=index_store)\n",
    "    print(\"New store created...\")\n"
   ]
  },
  {
   "cell_type": "code",
   "execution_count": 7,
   "id": "ada0b0d3",
   "metadata": {},
   "outputs": [
    {
     "name": "stdout",
     "output_type": "stream",
     "text": [
      "New store created...\n"
     ]
    }
   ],
   "source": [
    "embed_index(doc_list=recipe_1_content,\n",
    "            embed_fn=embedding_model,\n",
    "            index_store='new_index')"
   ]
  },
  {
   "cell_type": "code",
   "execution_count": 8,
   "id": "bbe30b29",
   "metadata": {},
   "outputs": [
    {
     "name": "stdout",
     "output_type": "stream",
     "text": [
      "Merge completed\n",
      "Updated index saved\n"
     ]
    }
   ],
   "source": [
    "embed_index(doc_list=recipe_2_content,\n",
    "            embed_fn=embedding_model,\n",
    "            index_store='new_index')"
   ]
  },
  {
   "cell_type": "code",
   "execution_count": 9,
   "id": "09aa7ed1",
   "metadata": {},
   "outputs": [],
   "source": [
    "from langchain.chat_models import AzureChatOpenAI\n",
    "vector_index = FAISS.load_local(\"new_index\", OpenAIEmbeddings())\n",
    "retriever = vector_index.as_retriever(search_type=\"similarity\", search_kwargs={\"k\": 6})"
   ]
  },
  {
   "cell_type": "code",
   "execution_count": 10,
   "id": "9c4710cd",
   "metadata": {},
   "outputs": [],
   "source": [
    "llm = AzureChatOpenAI(\n",
    "    temperature=0,\n",
    "    deployment_name=\"gpt-4\",\n",
    ")"
   ]
  },
  {
   "cell_type": "code",
   "execution_count": 11,
   "id": "4b4865b3",
   "metadata": {},
   "outputs": [],
   "source": [
    "CONDENSE_QUESTION_PROMPT = \"\"\"Comparison results:\n",
    "Instructions: Please provide a comparison of the two recipes presented as sets of Workato steps. Identify and list the dissimilarities under the “Differences” section and any similarities under the “No Differences” section. Also, include a detailed logic, mentioning the relevant steps by referring to their identifiers. If you are unsure of the answer, do not attempt to make one up.\n",
    "\n",
    "Chat History:\n",
    "{chat_history}\n",
    "\n",
    "QUERY: {question}\"\"\""
   ]
  },
  {
   "cell_type": "code",
   "execution_count": 12,
   "id": "008f4216",
   "metadata": {},
   "outputs": [],
   "source": [
    "CONDENSEprompt = PromptTemplate.from_template(CONDENSE_QUESTION_PROMPT)"
   ]
  },
  {
   "cell_type": "code",
   "execution_count": 13,
   "id": "529026d1",
   "metadata": {},
   "outputs": [],
   "source": [
    "qa = ConversationalRetrievalChain.from_llm(llm=llm,\n",
    "                                            retriever=retriever,\n",
    "                                            condense_question_prompt=CONDENSEprompt,\n",
    "                                            return_source_documents=True,\n",
    "                                            verbose=False)"
   ]
  },
  {
   "cell_type": "code",
   "execution_count": 14,
   "id": "4b5d46e7",
   "metadata": {},
   "outputs": [],
   "source": [
    "def ask_question_with_context(qa, question, chat_history):\n",
    "    query = \"A comparison of the two recipes presented as sets of Workato steps\"\n",
    "    result = qa({\"question\": question, \"chat_history\": chat_history})\n",
    "    print(\"answer:\", result[\"answer\"])\n",
    "    chat_history = [(query, result[\"answer\"])]\n",
    "    return chat_history"
   ]
  },
  {
   "cell_type": "code",
   "execution_count": 15,
   "id": "ce67ee40",
   "metadata": {},
   "outputs": [
    {
     "name": "stdout",
     "output_type": "stream",
     "text": [
      "answer: Recipe A and Recipe B are very similar in structure and function. They both involve steps to search rows in a database, declare and update variables, call a recipe, send an email, log messages, and stop the process if an error occurs. \n",
      "\n",
      "However, there are a few differences:\n",
      "\n",
      "1. The limit for the \"search_rows_sql\" action in Recipe A is set to \"50000\", while in Recipe B it is set to \"10000\". This means that Recipe A will retrieve more rows from the database in one go compared to Recipe B.\n",
      "\n",
      "2. The recipes are named differently. The first one is named \"recipe A\" and the second one is named \"recipe B\". \n",
      "\n",
      "3. The input for the \"call_recipe\" action in Recipe A uses the user_text variable from step 6, while in Recipe B it uses the user_text variable from step 5. \n",
      "\n",
      "These differences may affect the performance and results of the recipes.\n"
     ]
    },
    {
     "data": {
      "text/plain": [
       "[('A comparison of the two recipes presented as sets of Workato steps',\n",
       "  'Recipe A and Recipe B are very similar in structure and function. They both involve steps to search rows in a database, declare and update variables, call a recipe, send an email, log messages, and stop the process if an error occurs. \\n\\nHowever, there are a few differences:\\n\\n1. The limit for the \"search_rows_sql\" action in Recipe A is set to \"50000\", while in Recipe B it is set to \"10000\". This means that Recipe A will retrieve more rows from the database in one go compared to Recipe B.\\n\\n2. The recipes are named differently. The first one is named \"recipe A\" and the second one is named \"recipe B\". \\n\\n3. The input for the \"call_recipe\" action in Recipe A uses the user_text variable from step 6, while in Recipe B it uses the user_text variable from step 5. \\n\\nThese differences may affect the performance and results of the recipes.')]"
      ]
     },
     "execution_count": 15,
     "metadata": {},
     "output_type": "execute_result"
    }
   ],
   "source": [
    "chat_history = []\n",
    "ask_question_with_context(qa, \"Please provide a comparison of the two recipes A and B\", chat_history)"
   ]
  },
  {
   "cell_type": "code",
   "execution_count": null,
   "id": "2f79412b",
   "metadata": {},
   "outputs": [],
   "source": []
  },
  {
   "cell_type": "code",
   "execution_count": null,
   "id": "e3c32571",
   "metadata": {},
   "outputs": [],
   "source": []
  }
 ],
 "metadata": {
  "kernelspec": {
   "display_name": "Python 3 (ipykernel)",
   "language": "python",
   "name": "python3"
  },
  "language_info": {
   "codemirror_mode": {
    "name": "ipython",
    "version": 3
   },
   "file_extension": ".py",
   "mimetype": "text/x-python",
   "name": "python",
   "nbconvert_exporter": "python",
   "pygments_lexer": "ipython3",
   "version": "3.11.4"
  }
 },
 "nbformat": 4,
 "nbformat_minor": 5
}
